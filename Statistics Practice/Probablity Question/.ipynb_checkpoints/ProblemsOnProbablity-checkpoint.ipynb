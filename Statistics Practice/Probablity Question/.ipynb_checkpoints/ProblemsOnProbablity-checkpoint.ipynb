{
 "cells": [
  {
   "cell_type": "markdown",
   "metadata": {
    "colab_type": "text",
    "id": "3_e5qNtDpBJz"
   },
   "source": [
    "# Problems on Probability\n",
    "\n",
    "1)\tA multinational farm conducted a job satisfaction survey on a sample of its employees. The table below summarizes the result of the survey. Assuming that the sample drawn is a random sample from its entire employee population, the HR would like to know the probability of the following events.\n",
    "\n"
   ]
  },
  {
   "cell_type": "code",
   "execution_count": null,
   "metadata": {
    "colab": {},
    "colab_type": "code",
    "id": "ax2AQfVQpBJ3",
    "outputId": "3a710728-3685-4eea-bb58-4d4f1cdeb072",
    "scrolled": true
   },
   "outputs": [],
   "source": []
  },
  {
   "cell_type": "markdown",
   "metadata": {
    "colab_type": "text",
    "id": "AWa2eBohpBKJ"
   },
   "source": [
    "# What proportion of employees is satisfied? "
   ]
  },
  {
   "cell_type": "code",
   "execution_count": 0,
   "metadata": {
    "colab": {},
    "colab_type": "code",
    "id": "O7foQ7-NpBKN"
   },
   "outputs": [],
   "source": []
  },
  {
   "cell_type": "markdown",
   "metadata": {
    "colab_type": "text",
    "id": "xyPR9MMCpBKa"
   },
   "source": [
    "# What proportion of employees is at a risk of attrition? (Assume a dissatisfied employee will attrite eventually.)"
   ]
  },
  {
   "cell_type": "code",
   "execution_count": 0,
   "metadata": {
    "colab": {},
    "colab_type": "code",
    "id": "6T4ieABzpBKd"
   },
   "outputs": [],
   "source": []
  },
  {
   "cell_type": "markdown",
   "metadata": {
    "colab_type": "text",
    "id": "krIz3tKZpBKq"
   },
   "source": [
    "# If a dissatisfied employee attrite with probability 0.4 within a year, what is the probability of an employee to attrite in a year? "
   ]
  },
  {
   "cell_type": "code",
   "execution_count": 0,
   "metadata": {
    "colab": {},
    "colab_type": "code",
    "id": "I_g7rAuJpBKs"
   },
   "outputs": [],
   "source": []
  },
  {
   "cell_type": "markdown",
   "metadata": {
    "colab_type": "text",
    "id": "S7vTzD5qpBK3"
   },
   "source": [
    "# If an employee is chosen randomly, what is the probability that he/she at least a high school graduate?"
   ]
  },
  {
   "cell_type": "code",
   "execution_count": 0,
   "metadata": {
    "colab": {},
    "colab_type": "code",
    "id": "tArWP6URpBK5"
   },
   "outputs": [],
   "source": []
  },
  {
   "cell_type": "markdown",
   "metadata": {
    "colab_type": "text",
    "id": "W_7WyVDYpBLG"
   },
   "source": [
    "# What is the satisfaction rate among employees who are college graduate or more?"
   ]
  },
  {
   "cell_type": "code",
   "execution_count": 0,
   "metadata": {
    "colab": {},
    "colab_type": "code",
    "id": "L1L0p1xApBLJ"
   },
   "outputs": [],
   "source": []
  },
  {
   "cell_type": "markdown",
   "metadata": {
    "colab_type": "text",
    "id": "nLNIu0YDpBLX"
   },
   "source": [
    "# Among the employees who have at least some college education, what proportion is not dissatisfied?"
   ]
  },
  {
   "cell_type": "code",
   "execution_count": 0,
   "metadata": {
    "colab": {},
    "colab_type": "code",
    "id": "kxg7ITscpBLY"
   },
   "outputs": [],
   "source": []
  },
  {
   "cell_type": "markdown",
   "metadata": {
    "colab_type": "text",
    "id": "PZAhqwuBpBLd"
   },
   "source": [
    "# Among the employees who are not satisfied, what proportion are college graduate or more?"
   ]
  },
  {
   "cell_type": "code",
   "execution_count": 0,
   "metadata": {
    "colab": {},
    "colab_type": "code",
    "id": "JHGd4zyjpBLe"
   },
   "outputs": [],
   "source": []
  },
  {
   "cell_type": "markdown",
   "metadata": {
    "colab_type": "text",
    "id": "HqUBEdxipBLj"
   },
   "source": [
    "# Among the employees who have not had any college education, what proportion are not highly dissatisfied? "
   ]
  },
  {
   "cell_type": "code",
   "execution_count": 0,
   "metadata": {
    "colab": {},
    "colab_type": "code",
    "id": "jhYqduD5pBLl"
   },
   "outputs": [],
   "source": []
  },
  {
   "cell_type": "markdown",
   "metadata": {
    "colab_type": "text",
    "id": "cm-ZzjWxpBLt"
   },
   "source": [
    "# Problem 2 on Probability \n",
    "\n",
    "A multinational bank is concerned about the waiting time of its customers before they use the ATM for their transactions. A study of a random sample of 500 customers reveals the following probability distribution. The below table shows  the distribution."
   ]
  },
  {
   "cell_type": "code",
   "execution_count": 0,
   "metadata": {
    "colab": {},
    "colab_type": "code",
    "id": "px-QhzOCpBLv",
    "outputId": "fd4620e2-ea77-4046-9596-efefaabcec73"
   },
   "outputs": [
    {
     "data": {
      "image/jpeg": "[encoded data removed]",
      "text/plain": [
       "<IPython.core.display.Image object>"
      ]
     },
     "execution_count": 2,
     "metadata": {
      "image/jpeg": {
       "height": 100,
       "width": 200
      },
      "tags": []
     },
     "output_type": "execute_result"
    }
   ],
   "source": [
    "from IPython.display import Image\n",
    "Image(filename='Problem2.jpg',width=200,height=100)"
   ]
  },
  {
   "cell_type": "markdown",
   "metadata": {
    "colab_type": "text",
    "id": "cmeGNBPOpBL2"
   },
   "source": [
    "# What is the probability that a customer will wait for more than 5 minutes?"
   ]
  },
  {
   "cell_type": "code",
   "execution_count": 0,
   "metadata": {
    "colab": {},
    "colab_type": "code",
    "id": "rRFaib1VpBL3"
   },
   "outputs": [],
   "source": []
  },
  {
   "cell_type": "markdown",
   "metadata": {
    "colab_type": "text",
    "id": "LpzntfotpBL9"
   },
   "source": [
    "# What proportion of the customers do not have to wait at all?"
   ]
  },
  {
   "cell_type": "code",
   "execution_count": 0,
   "metadata": {
    "colab": {},
    "colab_type": "code",
    "id": "SD9V8t8IpBL-"
   },
   "outputs": [],
   "source": []
  },
  {
   "cell_type": "markdown",
   "metadata": {
    "colab_type": "text",
    "id": "hu4apQCTpBMD"
   },
   "source": [
    "# What is the expected waiting time for a customer?\n"
   ]
  },
  {
   "cell_type": "code",
   "execution_count": 0,
   "metadata": {
    "colab": {},
    "colab_type": "code",
    "id": "G5Hh5i5JpBME"
   },
   "outputs": [],
   "source": []
  },
  {
   "cell_type": "markdown",
   "metadata": {
    "colab_type": "text",
    "id": "2PZzSo7tpBMI"
   },
   "source": [
    "# Problems on Binomial and Normal Distributions\n"
   ]
  },
  {
   "cell_type": "markdown",
   "metadata": {
    "colab_type": "text",
    "id": "YvzoWjf1pBMJ"
   },
   "source": [
    "1)\tIn an inspection of automobiles 60% of all automobiles had emissions that do not meet the pollution requirement. For a random sample of 15 automobiles, compute the following\n",
    "\n",
    "-\tProbability that all 15 fails the inspection\n",
    "-\tExactly 8 fails the inspection\n",
    "-\tSeven or less passes the inspection\n",
    "-\tExpected number of automobiles to pass the inspection and its variance.\n"
   ]
  },
  {
   "cell_type": "code",
   "execution_count": 0,
   "metadata": {
    "colab": {},
    "colab_type": "code",
    "id": "9ZQEZPhQpBMS"
   },
   "outputs": [],
   "source": []
  },
  {
   "cell_type": "markdown",
   "metadata": {
    "colab_type": "text",
    "id": "oNqCWCCopBMv"
   },
   "source": [
    "2)\tOver a long period of time in a large multinomial corporation, 10% of all sales trainees are rated as outstanding, 75% are rated as excellent, 10% are rated as satisfactory and 5% are considered unsatisfactory. Find the following probabilities for a sample of 10 trainees selected at random\n",
    "\n",
    "-\tTwo are rated as outstanding\n",
    "-\tTwo or more are rated as outstanding\n",
    "-\tEight of the ten are rated either outstanding or excellent\n",
    "-\tNone of the trainees are rated as unsatisfactory\n"
   ]
  },
  {
   "cell_type": "code",
   "execution_count": 0,
   "metadata": {
    "colab": {},
    "colab_type": "code",
    "id": "ZzmqTYl_pBND"
   },
   "outputs": [],
   "source": []
  },
  {
   "cell_type": "markdown",
   "metadata": {
    "colab_type": "text",
    "id": "HuX4KyWxpBNK"
   },
   "source": [
    "3)\tA labor union’s examining board for the selection of trainees has a record of admitting 70% of all applicants who meet a basic set of criteria. Five members of a minority group recently came before the board and four out of five were rejected. Find the probability that one or fewer would be accepted if the record is really 0.7. Did the board apply a lower probability of acceptance when reviewing the five members of the minority group?"
   ]
  },
  {
   "cell_type": "code",
   "execution_count": 0,
   "metadata": {
    "colab": {},
    "colab_type": "code",
    "id": "HJPnv_0epBNL"
   },
   "outputs": [],
   "source": []
  },
  {
   "cell_type": "markdown",
   "metadata": {
    "colab_type": "text",
    "id": "ttmuysyLpBNT"
   },
   "source": [
    "4)\tAccording to the Telecommunication Industry the average monthly cell phone bill is Rs. 850 with a standard deviation of Rs. 150. \n",
    "\n",
    "-   What is the probability that a randomly selected cell phone bill is more than Rs 1200?\n",
    "-\tWhat is the probability that a randomly selected cell phone bill is between Rs 750 and Rs 1200?\n",
    "-\tWhat is the probability that a randomly selected cell phone bill is no more than Rs 650?\n",
    "-\tWhat is the amount above which lies top 15% of cell phone bills?\n",
    "-\tWhat is the amount below which lies bottom 25% of cell phone bills?\n"
   ]
  },
  {
   "cell_type": "code",
   "execution_count": 0,
   "metadata": {
    "colab": {},
    "colab_type": "code",
    "id": "wwvXkRF6pBN1"
   },
   "outputs": [],
   "source": []
  },
  {
   "cell_type": "markdown",
   "metadata": {
    "colab_type": "text",
    "id": "V7Hf6KqjpBN8"
   },
   "source": [
    "5)\tFor on-campus recruitment Ms. Z has sat for tests by Company A and Company B. For both tests her score is 50. It is known that for Company A, scores have a normal distribution with mean 40 and standard deviation 15 whereas for Company B, scores have a normal distribution with mean 45 and standard deviation 10. Relatively speaking in which test has Ms. Z done better?"
   ]
  },
  {
   "cell_type": "code",
   "execution_count": 0,
   "metadata": {
    "colab": {},
    "colab_type": "code",
    "id": "HPpvywixpBN9"
   },
   "outputs": [],
   "source": []
  },
  {
   "cell_type": "markdown",
   "metadata": {
    "colab_type": "text",
    "collapsed": true,
    "id": "gUG88p--pBOu"
   },
   "source": [
    "# Problem on Bayes Theorem"
   ]
  },
  {
   "cell_type": "markdown",
   "metadata": {
    "colab_type": "text",
    "collapsed": true,
    "id": "DxF-7AgGpBOw"
   },
   "source": [
    "- A computer component is given scores (A, B, C) after production.\n",
    "\n",
    "- On an average, 70% components were given a score of A, 18% were given a score of B and 12% a score of C.\n",
    "\n",
    "- It was found that 2% of the components that were given a score of A, 10% that were given a score of B and 18% that were given a score of C, eventually failed.\n",
    "\n",
    "- If you randomly pickup a failed component, what is the probability that it had received a score of B?\n"
   ]
  },
  {
   "cell_type": "code",
   "execution_count": 0,
   "metadata": {
    "colab": {},
    "colab_type": "code",
    "id": "uxb68c9ipBOy"
   },
   "outputs": [],
   "source": []
  },
  {
   "cell_type": "markdown",
   "metadata": {
    "colab_type": "text",
    "id": "r589IlDcpBO_"
   },
   "source": [
    "# Problems on Poisson Distribution\n",
    "\n",
    "- A bank is interested in studying the number of people who use the ATM located outside during night hours.\n",
    "- On an average, 1.6 customers walk up to the ATM during a 10-minute interval, b/w 9pm and midnight. \n",
    "\n"
   ]
  },
  {
   "cell_type": "markdown",
   "metadata": {
    "colab_type": "text",
    "id": "ft7KNyj0pBPA"
   },
   "source": [
    "# Find the probability of exactly 3 customers using the ATM in a 10-minute interval. "
   ]
  },
  {
   "cell_type": "code",
   "execution_count": null,
   "metadata": {},
   "outputs": [],
   "source": []
  },
  {
   "cell_type": "markdown",
   "metadata": {
    "colab_type": "text",
    "id": "vq3BtahipBPF"
   },
   "source": [
    "# What is the probability of 3 or fewer people?"
   ]
  },
  {
   "cell_type": "code",
   "execution_count": null,
   "metadata": {},
   "outputs": [],
   "source": []
  }
 ],
 "metadata": {
  "colab": {
   "collapsed_sections": [
    "r589IlDcpBO_",
    "ft7KNyj0pBPA",
    "vq3BtahipBPF"
   ],
   "name": "SMDM_Week-2 Student_File.ipynb",
   "provenance": []
  },
  "kernelspec": {
   "display_name": "Python 3 (ipykernel)",
   "language": "python",
   "name": "python3"
  },
  "language_info": {
   "codemirror_mode": {
    "name": "ipython",
    "version": 3
   },
   "file_extension": ".py",
   "mimetype": "text/x-python",
   "name": "python",
   "nbconvert_exporter": "python",
   "pygments_lexer": "ipython3",
   "version": "3.9.13"
  }
 },
 "nbformat": 4,
 "nbformat_minor": 1
}
