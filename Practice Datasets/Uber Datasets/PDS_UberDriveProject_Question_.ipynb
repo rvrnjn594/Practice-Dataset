{
  "nbformat": 4,
  "nbformat_minor": 0,
  "metadata": {
    "colab": {
      "name": "PDS_UberDriveProject_Question..ipynb",
      "provenance": [],
      "collapsed_sections": []
    },
    "kernelspec": {
      "display_name": "Python 3",
      "language": "python",
      "name": "python3"
    },
    "language_info": {
      "codemirror_mode": {
        "name": "ipython",
        "version": 3
      },
      "file_extension": ".py",
      "mimetype": "text/x-python",
      "name": "python",
      "nbconvert_exporter": "python",
      "pygments_lexer": "ipython3",
      "version": "3.7.3"
    },
    "toc": {
      "base_numbering": 1,
      "nav_menu": {},
      "number_sections": true,
      "sideBar": true,
      "skip_h1_title": false,
      "title_cell": "Table of Contents",
      "title_sidebar": "Contents",
      "toc_cell": false,
      "toc_position": {},
      "toc_section_display": true,
      "toc_window_display": false
    },
    "varInspector": {
      "cols": {
        "lenName": 16,
        "lenType": 16,
        "lenVar": 40
      },
      "kernels_config": {
        "python": {
          "delete_cmd_postfix": "",
          "delete_cmd_prefix": "del ",
          "library": "var_list.py",
          "varRefreshCmd": "print(var_dic_list())"
        },
        "r": {
          "delete_cmd_postfix": ") ",
          "delete_cmd_prefix": "rm(",
          "library": "var_list.r",
          "varRefreshCmd": "cat(var_dic_list()) "
        }
      },
      "types_to_exclude": [
        "module",
        "function",
        "builtin_function_or_method",
        "instance",
        "_Feature"
      ],
      "window_display": false
    }
  },
  "cells": [
    {
      "cell_type": "markdown",
      "metadata": {
        "id": "98yskoA9197_"
      },
      "source": [
        "**Instructions:** \n",
        "1. **For all questions after 10th, Please only use the data specified in the note given just below the question**\n",
        "2. **You need to add answers in the same file i.e.  PDS_UberDriveProject_Questions.ipynb' and rename that file as 'Name_Date.ipynb'.You can mention the date on which you will be uploading/submitting the file.For e.g. if you plan to submit your assignment on 31-March, you can rename the file as 'STUDENTNAME_31-Mar-2020'**"
      ]
    },
    {
      "cell_type": "markdown",
      "metadata": {
        "id": "WiVXvuYj198C"
      },
      "source": [
        "# Load the necessary libraries. Import and load the dataset with a name uber_drives ."
      ]
    },
    {
      "cell_type": "code",
      "metadata": {
        "id": "1t_S2Qw_198D"
      },
      "source": [
        ""
      ],
      "execution_count": null,
      "outputs": []
    },
    {
      "cell_type": "code",
      "metadata": {
        "id": "rOMfio427XfR"
      },
      "source": [
        "# Get the Data\n"
      ],
      "execution_count": null,
      "outputs": []
    },
    {
      "cell_type": "markdown",
      "metadata": {
        "id": "DZktgL3E198I"
      },
      "source": [
        "## Q1. Show the last 10 records of the dataset. (2 point)"
      ]
    },
    {
      "cell_type": "code",
      "metadata": {
        "id": "pk7z2uii198I"
      },
      "source": [
        ""
      ],
      "execution_count": null,
      "outputs": []
    },
    {
      "cell_type": "markdown",
      "metadata": {
        "id": "ipD0ZQ9O198O"
      },
      "source": [
        "## Q2. Show the first 10 records of the dataset. (2 points)"
      ]
    },
    {
      "cell_type": "code",
      "metadata": {
        "id": "XzYRsxR1198O"
      },
      "source": [
        ""
      ],
      "execution_count": null,
      "outputs": []
    },
    {
      "cell_type": "markdown",
      "metadata": {
        "id": "R2F4GX15198S"
      },
      "source": [
        "## Q3. Show the dimension(number of rows and columns) of the dataset. (2 points)"
      ]
    },
    {
      "cell_type": "code",
      "metadata": {
        "id": "5YAWUNwZ198T"
      },
      "source": [
        ""
      ],
      "execution_count": null,
      "outputs": []
    },
    {
      "cell_type": "markdown",
      "metadata": {
        "id": "H6x0S6vs198W"
      },
      "source": [
        "## Q4. Show the size (Total number of elements) of the dataset. (2 points)"
      ]
    },
    {
      "cell_type": "code",
      "metadata": {
        "id": "2IQc1x7D198X"
      },
      "source": [
        ""
      ],
      "execution_count": null,
      "outputs": []
    },
    {
      "cell_type": "markdown",
      "metadata": {
        "id": "c2ATRpjm198a"
      },
      "source": [
        "## Q5. Display the information about all the variables of the data set. (2 points)\n",
        "\n",
        "#### Hint: Information includes - Total number of columns,variable data-types, number of non-null values in a variable, and usage"
      ]
    },
    {
      "cell_type": "code",
      "metadata": {
        "id": "D7Pfnrb6198b"
      },
      "source": [
        ""
      ],
      "execution_count": null,
      "outputs": []
    },
    {
      "cell_type": "markdown",
      "metadata": {
        "id": "emZkbUV_198g"
      },
      "source": [
        "## Q6. Check for missing values. (2 points) -  Note: Output should be boolean only."
      ]
    },
    {
      "cell_type": "code",
      "metadata": {
        "id": "XWU-AunT198h"
      },
      "source": [
        ""
      ],
      "execution_count": null,
      "outputs": []
    },
    {
      "cell_type": "markdown",
      "metadata": {
        "id": "UCvC2OPe198l"
      },
      "source": [
        "## Q7. How many missing values are present? (2 points)\n",
        "\n",
        "#### Hint: Find out the total number of missing values across all the variables"
      ]
    },
    {
      "cell_type": "code",
      "metadata": {
        "id": "o2-vHyGA198m"
      },
      "source": [
        ""
      ],
      "execution_count": null,
      "outputs": []
    },
    {
      "cell_type": "markdown",
      "metadata": {
        "id": "617aSeL_198q"
      },
      "source": [
        "## Q8. Get the summary of the original data. (2 points). \n",
        "\n",
        "#### Hint: Summary includes- Count,Mean, Std, Min, 25%,50%,75% and max\n",
        "\n",
        "#### Note:Outcome will contain only numerical column."
      ]
    },
    {
      "cell_type": "code",
      "metadata": {
        "id": "hMkibRQg198q"
      },
      "source": [
        ""
      ],
      "execution_count": null,
      "outputs": []
    },
    {
      "cell_type": "markdown",
      "metadata": {
        "id": "8PmU-86n198v"
      },
      "source": [
        "\n",
        "\n",
        "## Q9. Drop the missing values and store data in a new dataframe (name it\"df\") (2-points)\n",
        "\n",
        "#### Note: Dataframe \"df\" will not contain any missing value"
      ]
    },
    {
      "cell_type": "code",
      "metadata": {
        "id": "3xZC0dvq198w"
      },
      "source": [
        ""
      ],
      "execution_count": null,
      "outputs": []
    },
    {
      "cell_type": "markdown",
      "metadata": {
        "id": "2vIFI9G61983"
      },
      "source": [
        "## Q10. Check the information of the dataframe(df). (2 points)\n",
        "#### Hint: Information includes - Total number of columns,variable data-types, number of non-null values in a variable, and usage"
      ]
    },
    {
      "cell_type": "code",
      "metadata": {
        "id": "DrmfQwDc1983"
      },
      "source": [
        ""
      ],
      "execution_count": null,
      "outputs": []
    },
    {
      "cell_type": "markdown",
      "metadata": {
        "id": "Pqm4jhgT1986"
      },
      "source": [
        "## Q11. Get the unique start locations. (2 points)\n",
        "#### Note: This question is based on the dataframe with no 'NA' values\n",
        "#### Hint- You need to print the unique start locations place names in this and not the count."
      ]
    },
    {
      "cell_type": "code",
      "metadata": {
        "id": "jsuoItZX1987"
      },
      "source": [
        ""
      ],
      "execution_count": null,
      "outputs": []
    },
    {
      "cell_type": "markdown",
      "metadata": {
        "id": "s3s-pY1R198_"
      },
      "source": [
        "## Q12. What is the total number of unique start locations? (2 points)\n",
        "#### Note: Use the original dataframe without dropping 'NA' values"
      ]
    },
    {
      "cell_type": "code",
      "metadata": {
        "id": "OOZy88AA199A"
      },
      "source": [
        ""
      ],
      "execution_count": null,
      "outputs": []
    },
    {
      "cell_type": "markdown",
      "metadata": {
        "id": "LuKFv1_P199D"
      },
      "source": [
        "## Q13. What is the total number of unique stop locations. (2 points)\n",
        "#### Note: Use the original dataframe without dropping 'NA' values."
      ]
    },
    {
      "cell_type": "code",
      "metadata": {
        "id": "5YeWcpZT199E"
      },
      "source": [
        ""
      ],
      "execution_count": null,
      "outputs": []
    },
    {
      "cell_type": "markdown",
      "metadata": {
        "id": "VmkTnPlt199H"
      },
      "source": [
        "## Q14. Display all the Uber trips that has the starting point of San Francisco. (2 points)\n",
        "#### Note: Use the original dataframe without dropping the 'NA' values.\n",
        "\n",
        "#### Hint: You need to display the rows which has starting point of San Francisco. Try using loc function"
      ]
    },
    {
      "cell_type": "code",
      "metadata": {
        "id": "fwhKZQfs199I"
      },
      "source": [
        ""
      ],
      "execution_count": null,
      "outputs": []
    },
    {
      "cell_type": "markdown",
      "metadata": {
        "id": "ZMsuzJcG199O"
      },
      "source": [
        "## Q15. What is the most popular starting point for the Uber drivers? (2 points)\n",
        "#### Note: Use the original dataframe without dropping the 'NA' values.\n",
        "\n",
        "#### Hint:Popular means the place that is visited the most"
      ]
    },
    {
      "cell_type": "code",
      "metadata": {
        "id": "a5QGyjza199P"
      },
      "source": [
        ""
      ],
      "execution_count": null,
      "outputs": []
    },
    {
      "cell_type": "markdown",
      "metadata": {
        "id": "S13-HiPG199T"
      },
      "source": [
        "## Q16. What is the most popular dropping point for the Uber drivers? (2 points)\n",
        "#### Note: Use the original dataframe without dropping the 'NA' values.\n",
        "\n",
        "#### Hint: Popular means the place that is visited the most"
      ]
    },
    {
      "cell_type": "code",
      "metadata": {
        "id": "YP-hwvNT199T"
      },
      "source": [
        ""
      ],
      "execution_count": null,
      "outputs": []
    },
    {
      "cell_type": "markdown",
      "metadata": {
        "id": "6Iqizk7B199W"
      },
      "source": [
        "## Q17. List the most frequent route taken by Uber drivers. (3 points)\n",
        "#### Note: This question is based on the new dataframe with no 'na' values.\n",
        "#### Hint-Print the most frequent route taken by Uber drivers (Route= combination of START & END points present in the Data set). One may use Groupby function"
      ]
    },
    {
      "cell_type": "code",
      "metadata": {
        "id": "f41v9gc4199X"
      },
      "source": [
        ""
      ],
      "execution_count": null,
      "outputs": []
    },
    {
      "cell_type": "markdown",
      "metadata": {
        "id": "oBrYyZ-L199Z"
      },
      "source": [
        "## Q18. Display all types of purposes for the trip in an array. (3 points)\n",
        "#### Note: This question is based on the new dataframe with no 'NA' values."
      ]
    },
    {
      "cell_type": "code",
      "metadata": {
        "id": "p3fe_lTe199a"
      },
      "source": [
        ""
      ],
      "execution_count": null,
      "outputs": []
    },
    {
      "cell_type": "markdown",
      "metadata": {
        "id": "WBN9Ufxc199d"
      },
      "source": [
        "## Q19. Plot a bar graph of Purpose vs Miles(Distance). (3 points)\n",
        "#### Note: Use the original dataframe without dropping the 'NA' values.\n",
        "#### Hint:You have to plot total/sum miles per purpose"
      ]
    },
    {
      "cell_type": "code",
      "metadata": {
        "id": "JaNSQ_qSa-Rg"
      },
      "source": [
        ""
      ],
      "execution_count": null,
      "outputs": []
    },
    {
      "cell_type": "markdown",
      "metadata": {
        "id": "b7-pD446199j"
      },
      "source": [
        "## Q20. Display a dataframe of Purpose and the distance travelled for that particular Purpose. (3 points)\n",
        "#### Note: Use the original dataframe without dropping \"NA\" values"
      ]
    },
    {
      "cell_type": "code",
      "metadata": {
        "id": "Em4d7Ng9199k"
      },
      "source": [
        ""
      ],
      "execution_count": null,
      "outputs": []
    },
    {
      "cell_type": "markdown",
      "metadata": {
        "id": "CIZBaeSt199o"
      },
      "source": [
        "## Q21. Plot number of trips vs Category of trips. (3 points)\n",
        "#### Note: Use the original dataframe without dropping the 'NA' values.\n",
        "#### Hint : You can make a countplot or barplot."
      ]
    },
    {
      "cell_type": "code",
      "metadata": {
        "id": "fRuxSI0W199p"
      },
      "source": [
        ""
      ],
      "execution_count": null,
      "outputs": []
    },
    {
      "cell_type": "markdown",
      "metadata": {
        "id": "VgzSzOt9199t"
      },
      "source": [
        "## Q22. What is proportion of miles that are covered as Business trips and what is the proportion of miles that are covered as Personal trips? (3 points)\n",
        "\n",
        "### Note:Use the original dataframe without dropping the 'NA' values. The proportion calculation  is with respect to the 'miles' variable.\n",
        "\n",
        "#### Hint: Proportion of miles covered as business trips= (Total Miles clocked as Business Trips)/ (Total Miles)\n",
        "#### Proportion of miles covered as personal trips= (Total Miles clocked as Personal Trips)/ (Total Miles)\n"
      ]
    },
    {
      "cell_type": "code",
      "metadata": {
        "id": "K6ExiAiI199u"
      },
      "source": [
        ""
      ],
      "execution_count": null,
      "outputs": []
    }
  ]
}